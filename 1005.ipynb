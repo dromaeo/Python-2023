{
  "metadata": {
    "language_info": {
      "codemirror_mode": {
        "name": "python",
        "version": 3
      },
      "file_extension": ".py",
      "mimetype": "text/x-python",
      "name": "python",
      "nbconvert_exporter": "python",
      "pygments_lexer": "ipython3",
      "version": "3.8"
    },
    "kernelspec": {
      "name": "python",
      "display_name": "Python (Pyodide)",
      "language": "python"
    }
  },
  "nbformat_minor": 4,
  "nbformat": 4,
  "cells": [
    {
      "cell_type": "markdown",
      "source": "# Oct 05\n## MODULE",
      "metadata": {}
    },
    {
      "cell_type": "markdown",
      "source": "You have to run main_program.py in the same folder",
      "metadata": {}
    },
    {
      "cell_type": "code",
      "source": "import numpy as np\n# shortcut old programmers used num\n\ndef Pitagora(a,b):\n    c=np.sqrt(a**2+b**2) #** is ^\n    return c\n\n#lines\nhypo = Pitagora(3,4)\nprint('The value of your hypo is', hypo)",
      "metadata": {
        "trusted": true
      },
      "execution_count": 4,
      "outputs": [
        {
          "name": "stdout",
          "text": "The value of your hypo is 5.0\n",
          "output_type": "stream"
        }
      ]
    },
    {
      "cell_type": "code",
      "source": "def esegui_istruzioni():\n        print('you are ok, you are working well')\n        \nesegui_istruzioni()",
      "metadata": {
        "trusted": true
      },
      "execution_count": 6,
      "outputs": [
        {
          "name": "stdout",
          "text": "you are ok, you are working well\n",
          "output_type": "stream"
        }
      ]
    },
    {
      "cell_type": "markdown",
      "source": "You can use either function or modules",
      "metadata": {}
    },
    {
      "cell_type": "code",
      "source": "a, b=3,4\nsum=a+b\nprint('Sum:', sum)\n# - * / power:** rounded div:// resto:%\nprint('max:', max(a,b)) #min\nne=-8\nprint('absolute value:',abs(ne))",
      "metadata": {
        "trusted": true
      },
      "execution_count": 14,
      "outputs": [
        {
          "name": "stdout",
          "text": "Sum: 7\nmax: 4\nabsolute value: 8\n",
          "output_type": "stream"
        }
      ]
    },
    {
      "cell_type": "code",
      "source": "st=\"String\"\nprint(type(st),st)\nprint('n characters:',len(st))\nprint('second ch (starts from 0):',st[1],\n      'last one:', st[-1], st[len(st)-1])",
      "metadata": {
        "trusted": true
      },
      "execution_count": 34,
      "outputs": [
        {
          "name": "stdout",
          "text": "<class 'str'> String\nn characters: 6\nsecond ch (starts from 0): t last one: g g\n",
          "output_type": "stream"
        }
      ]
    },
    {
      "cell_type": "code",
      "source": "multiple=st*4\nprint(multiple)\nspace=(st+' ')*4\nprint(space)",
      "metadata": {
        "trusted": true
      },
      "execution_count": 38,
      "outputs": [
        {
          "name": "stdout",
          "text": "StringStringStringString\nString String String String \n",
          "output_type": "stream"
        }
      ]
    },
    {
      "cell_type": "code",
      "source": "alist=[1, 'two', 3]\nprint(alist, len(alist))",
      "metadata": {
        "trusted": true
      },
      "execution_count": 41,
      "outputs": [
        {
          "name": "stdout",
          "text": "[1, 'two', 3] 3\n",
          "output_type": "stream"
        }
      ]
    },
    {
      "cell_type": "code",
      "source": "",
      "metadata": {},
      "execution_count": null,
      "outputs": []
    }
  ]
}