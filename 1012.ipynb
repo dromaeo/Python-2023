{
  "metadata": {
    "language_info": {
      "codemirror_mode": {
        "name": "python",
        "version": 3
      },
      "file_extension": ".py",
      "mimetype": "text/x-python",
      "name": "python",
      "nbconvert_exporter": "python",
      "pygments_lexer": "ipython3",
      "version": "3.8"
    },
    "kernelspec": {
      "name": "python",
      "display_name": "Python (Pyodide)",
      "language": "python"
    }
  },
  "nbformat_minor": 4,
  "nbformat": 4,
  "cells": [
    {
      "cell_type": "markdown",
      "source": "# Oct 12\nOn the exam it can be asked \"why is this efficient, what happens if i do something different?\"\nNo correct answer but know what you're doing\ncygwin terminal",
      "metadata": {}
    },
    {
      "cell_type": "code",
      "source": "class Point():\n    \"\"\" Point class in 2D space \"\"\"\n    def __init__(self, x=0, y=9):\n        \"\"\"Create a point\"\"\"\n        self.x=x\n        self.y=y\n    def distance_from_origin(self):\n        return ((self.x)**2+(self.y)**2)**0.5\n    def halfway(self,P2):\n        \"\"\"Return midpoint between self and another\"\"\"\n        mx=(self.x+P2.x)/2\n        my=(self.y+P2.y)/2\n        return Point(mx,my)",
      "metadata": {
        "trusted": true
      },
      "execution_count": 15,
      "outputs": []
    },
    {
      "cell_type": "code",
      "source": "def print_point(punto):\n    print(\"({0},{1})\".format(punto.x,punto.y))",
      "metadata": {
        "trusted": true
      },
      "execution_count": 3,
      "outputs": []
    },
    {
      "cell_type": "code",
      "source": "punto=Point(55,64)\nprint_point(punto)",
      "metadata": {
        "trusted": true
      },
      "execution_count": 6,
      "outputs": [
        {
          "name": "stdout",
          "text": "(55,64)\n",
          "output_type": "stream"
        }
      ]
    },
    {
      "cell_type": "code",
      "source": "def midpoint(P1,P2):\n    \"\"\"Return midpoint\"\"\"\n    mx=(P1.x+P2.x)/2\n    my=(P1.y+P2.y)/2\n    return Point(mx,my)\n#moved to the def of class, becooming a method",
      "metadata": {
        "trusted": true
      },
      "execution_count": 12,
      "outputs": []
    },
    {
      "cell_type": "code",
      "source": "p=Point(3,4)\nq=Point(5,12)\nr=midpoint(p,q)\nprint_point(r)\nt=p.halfway(q)\nprint_point(t)\n\n#pass lets you execute even if a function doesn't contain anything (useful with if)",
      "metadata": {
        "trusted": true
      },
      "execution_count": 19,
      "outputs": [
        {
          "name": "stdout",
          "text": "(4.0,8.0)\n(4.0,8.0)\n",
          "output_type": "stream"
        }
      ]
    },
    {
      "cell_type": "code",
      "source": "food=\"Pizza\"\nif food==\"Pizza\":\n    print(food)\n    #IF WITH ==\nelif food==\"Pasta\":\n    print(food, 'is better')\nelse: print('Why')\n\n#use if + print to know how far the code has run",
      "metadata": {
        "trusted": true
      },
      "execution_count": 25,
      "outputs": [
        {
          "name": "stdout",
          "text": "Pizza\n",
          "output_type": "stream"
        }
      ]
    },
    {
      "cell_type": "code",
      "source": "x = 0\nif x < 0:\n    print(x, ' is negative number')\nelif x > 0:\n    print(x, ' is positive number')\nelse:\n    print(x, 'is 0')\n    \nlista = ['a', 'b', 'd', 2, 4]\nif 'd' in lista:\n    print('element found at position ', lista.index('d'))",
      "metadata": {
        "trusted": true
      },
      "execution_count": 9,
      "outputs": [
        {
          "name": "stdout",
          "text": "0 is 0\nelement found at position  2\n",
          "output_type": "stream"
        }
      ]
    },
    {
      "cell_type": "code",
      "source": "for i in range (1,10, 5): #5 steps\n    print(i)\nstringa='Python'\nindice=stringa.index('h')\n\nimport time\nstart_time=time.time()\nend_time=time.time()\nprint('runtime=', end_time - start_time)\n\n#same thing is doin\ncount=0\nfor i in stringa:\n    if i=='h':\n        ind=count\n    count+=1\nprint(indice, ind)",
      "metadata": {
        "trusted": true
      },
      "execution_count": 8,
      "outputs": [
        {
          "name": "stdout",
          "text": "1\n6\nruntime= 0.0009999275207519531\n3 3\n",
          "output_type": "stream"
        }
      ]
    },
    {
      "cell_type": "code",
      "source": "count=0\ncheck=0\nwhile check<5:\n    print(check)\n    check+=1\n    count+=1\nprint('runs',count)",
      "metadata": {
        "trusted": true
      },
      "execution_count": 6,
      "outputs": [
        {
          "name": "stdout",
          "text": "0\n1\n2\n3\n4\nruns 5\n",
          "output_type": "stream"
        }
      ]
    },
    {
      "cell_type": "markdown",
      "source": "# Read from file",
      "metadata": {}
    },
    {
      "cell_type": "code",
      "source": "import os\nos.getcwd()\n#change with to go back one directory\n#os.chdir('..')",
      "metadata": {
        "trusted": true
      },
      "execution_count": 7,
      "outputs": [
        {
          "execution_count": 7,
          "output_type": "execute_result",
          "data": {
            "text/plain": "'/drive/notebooks'"
          },
          "metadata": {}
        }
      ]
    },
    {
      "cell_type": "markdown",
      "source": "-|---\na|table\n\nItem | Price | In stock\n---|---|---\nJuicy Apples | 1.99 | 739\nBananas | 1.89 | 6",
      "metadata": {}
    },
    {
      "cell_type": "markdown",
      "source": " open\n‘r’ open for reading (default)\n‘w’ open for writing, ntruncating the file first\n‘x’ open for exclusive creation, failing if the file already exists\n‘a’ open for writing, appending to the end of the file if it exists\n\n#wt clears, at mantais it",
      "metadata": {}
    },
    {
      "cell_type": "code",
      "source": "myfl = open('mytxt.txt', 'wt')\ntype(myfl),dir(myfl)\nmyfl.write('questa è una stringa\\n')\nmyfl.write('sulla riga seguente c\\'è un numero\\n')\nmyfl.write(str(10)+'\\n')\nmyfl.close()\n",
      "metadata": {
        "trusted": true
      },
      "execution_count": 42,
      "outputs": []
    },
    {
      "cell_type": "code",
      "source": "rows=[]\nfor i in range(1,11):\n    rows.append('stringa {0}\\n'.format(i)) #try with and without \\n\nmyfl.close()\n\n#overwriting on file\nmyfl = open('mytxt.txt','wt')\nmyfl.writelines(rows)\n#myfl.writelines(rows)\n#equivalent to\n#for row in rows:\n#myfl.write(row)\n",
      "metadata": {
        "trusted": true
      },
      "execution_count": 47,
      "outputs": []
    },
    {
      "cell_type": "code",
      "source": "",
      "metadata": {},
      "execution_count": null,
      "outputs": []
    }
  ]
}