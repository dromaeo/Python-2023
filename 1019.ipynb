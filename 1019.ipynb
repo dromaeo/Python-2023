{
  "metadata": {
    "language_info": {
      "codemirror_mode": {
        "name": "python",
        "version": 3
      },
      "file_extension": ".py",
      "mimetype": "text/x-python",
      "name": "python",
      "nbconvert_exporter": "python",
      "pygments_lexer": "ipython3",
      "version": "3.8"
    },
    "kernelspec": {
      "name": "python",
      "display_name": "Python (Pyodide)",
      "language": "python"
    }
  },
  "nbformat_minor": 4,
  "nbformat": 4,
  "cells": [
    {
      "cell_type": "markdown",
      "source": "# Oct 19",
      "metadata": {}
    },
    {
      "cell_type": "code",
      "source": "#Multidimentional arrays with coordinates\nimport numpy as np\ndata=np.array([1,2,3])\nprint(data[:2], 'up to 2nd') #useful for header\nprint(data[-2:], 'all following 2nd last')\nprint(data[::-1], 'reverse') #all before the -1\n\n#With matrix, [:all row, 3column]",
      "metadata": {
        "trusted": true
      },
      "execution_count": 5,
      "outputs": [
        {
          "name": "stdout",
          "text": "[1 2] up to 2nd\n[2 3] all following 2nd last\n[3 2 1] reverse\n",
          "output_type": "stream"
        }
      ]
    },
    {
      "cell_type": "code",
      "source": "# 2x3 x 3x1 operable\nnrows, ncols= 10, 20\nz= np.zeros((nrows, ncols))\nprint(z)\nprint(z.shape)",
      "metadata": {
        "trusted": true
      },
      "execution_count": 10,
      "outputs": [
        {
          "name": "stdout",
          "text": "[[0. 0. 0. 0. 0. 0. 0. 0. 0. 0. 0. 0. 0. 0. 0. 0. 0. 0. 0. 0.]\n [0. 0. 0. 0. 0. 0. 0. 0. 0. 0. 0. 0. 0. 0. 0. 0. 0. 0. 0. 0.]\n [0. 0. 0. 0. 0. 0. 0. 0. 0. 0. 0. 0. 0. 0. 0. 0. 0. 0. 0. 0.]\n [0. 0. 0. 0. 0. 0. 0. 0. 0. 0. 0. 0. 0. 0. 0. 0. 0. 0. 0. 0.]\n [0. 0. 0. 0. 0. 0. 0. 0. 0. 0. 0. 0. 0. 0. 0. 0. 0. 0. 0. 0.]\n [0. 0. 0. 0. 0. 0. 0. 0. 0. 0. 0. 0. 0. 0. 0. 0. 0. 0. 0. 0.]\n [0. 0. 0. 0. 0. 0. 0. 0. 0. 0. 0. 0. 0. 0. 0. 0. 0. 0. 0. 0.]\n [0. 0. 0. 0. 0. 0. 0. 0. 0. 0. 0. 0. 0. 0. 0. 0. 0. 0. 0. 0.]\n [0. 0. 0. 0. 0. 0. 0. 0. 0. 0. 0. 0. 0. 0. 0. 0. 0. 0. 0. 0.]\n [0. 0. 0. 0. 0. 0. 0. 0. 0. 0. 0. 0. 0. 0. 0. 0. 0. 0. 0. 0.]]\n(10, 20)\n",
          "output_type": "stream"
        }
      ]
    },
    {
      "cell_type": "code",
      "source": "new=np.arange(0,10,2)\nt_axis= np.arange(0,60,10)\nprint(new)\nx_axis=np.linspace(0,60,6)\nprint(x_axis) #not integer\nx2=np.linspace(0,60,19)\n#print('{0:.2f}'.format(j) for j in x2) can't format an array\n\nx2r=np.round(x2, 2)\nprint(x2r) ",
      "metadata": {
        "trusted": true
      },
      "execution_count": 14,
      "outputs": [
        {
          "name": "stdout",
          "text": "[0 2 4 6 8]\n[ 0. 12. 24. 36. 48. 60.]\n[ 0.    3.33  6.67 10.   13.33 16.67 20.   23.33 26.67 30.   33.33 36.67\n 40.   43.33 46.67 50.   53.33 56.67 60.  ]\n",
          "output_type": "stream"
        }
      ]
    },
    {
      "cell_type": "code",
      "source": "a=np.array([1,2])\nb=a*1.5\nprint(b)\n#we use array because operations are already considered",
      "metadata": {
        "trusted": true
      },
      "execution_count": 19,
      "outputs": [
        {
          "name": "stdout",
          "text": "[1.5 3. ]\n",
          "output_type": "stream"
        }
      ]
    },
    {
      "cell_type": "markdown",
      "source": "# Oct 18\nRead from file, recovered",
      "metadata": {}
    },
    {
      "cell_type": "code",
      "source": "myfl = open('1018.txt','wt')\nmyfl.write('questa è una stringa\\n')\nmyfl.write('sulla riga seguente c\\'è un numero\\n')\nmyfl.write(str(10)+'\\n')\nmyfl.close()",
      "metadata": {
        "trusted": true
      },
      "execution_count": 1,
      "outputs": []
    },
    {
      "cell_type": "code",
      "source": "rows=[]\nfor i in range(1,11):\n    rows.append('stringa {0}\\n'.format(i)) #try with and without \\n\n#overwriting on file\nmyfl = open('1018.txt','at')\nmyfl.writelines(rows)\nmyfl.close()",
      "metadata": {
        "trusted": true
      },
      "execution_count": 2,
      "outputs": []
    },
    {
      "cell_type": "code",
      "source": "myfl = open('1018.txt','a') # t not necessary\nnc = myfl.write('\\n another character string with a non-ascii character: è\\n')\nprint('I wrote {0} more characters in the file'.format(nc))",
      "metadata": {
        "trusted": true
      },
      "execution_count": 3,
      "outputs": [
        {
          "name": "stdout",
          "text": "I wrote 57 more characters in the file\n",
          "output_type": "stream"
        }
      ]
    },
    {
      "cell_type": "code",
      "source": " # opening the file in reading mode\nmyfl = open('1018.txt')# (default 'rt')\n# reading the file in one line\nmystr=myfl.read()\n# close teh file\nmyfl.close()\n# print the line\nprint(mystr)\nmystr\n",
      "metadata": {
        "trusted": true
      },
      "execution_count": 5,
      "outputs": [
        {
          "name": "stdout",
          "text": "questa è una stringa\nsulla riga seguente c'è un numero\n10\nstringa 1\nstringa 2\nstringa 3\nstringa 4\nstringa 5\nstringa 6\nstringa 7\nstringa 8\nstringa 9\nstringa 10\n\n",
          "output_type": "stream"
        },
        {
          "execution_count": 5,
          "output_type": "execute_result",
          "data": {
            "text/plain": "\"questa è una stringa\\nsulla riga seguente c'è un numero\\n10\\nstringa 1\\nstringa 2\\nstringa 3\\nstringa 4\\nstringa 5\\nstringa 6\\nstringa 7\\nstringa 8\\nstringa 9\\nstringa 10\\n\""
          },
          "metadata": {}
        }
      ]
    },
    {
      "cell_type": "code",
      "source": "myfl = open('1018.txt')\n# rading a list of strings\nrows=myfl.readlines()\n# closing the file\nmyfl.close()\n#printing the strings of the list\nfor row in rows:\n    print(row, end=\"\")\n\"\"\"\ntwo \\n: one in line, one added byprint,\nuse row.strip() to delete the first one\nor the end parameter of print to eliminate the second one\n\"\"\"",
      "metadata": {
        "trusted": true
      },
      "execution_count": 6,
      "outputs": [
        {
          "name": "stdout",
          "text": "questa è una stringa\nsulla riga seguente c'è un numero\n10\nstringa 1\nstringa 2\nstringa 3\nstringa 4\nstringa 5\nstringa 6\nstringa 7\nstringa 8\nstringa 9\nstringa 10\n\n another character string with a non-ascii character: è\n",
          "output_type": "stream"
        },
        {
          "execution_count": 6,
          "output_type": "execute_result",
          "data": {
            "text/plain": "'\\ntwo \\n: one in line, one added byprint,\\nuse row.strip() to delete the first one\\nor the end parameter of print to eliminate the second one\\n'"
          },
          "metadata": {}
        }
      ]
    },
    {
      "cell_type": "code",
      "source": "myfl = open('1018.txt')\nrow = \"segnaposto\"\nwhile row:\n    row=myfl.readline()\n    print(row,end='')\nmyfl.close()",
      "metadata": {
        "trusted": true
      },
      "execution_count": 16,
      "outputs": [
        {
          "name": "stdout",
          "text": "questa è una stringa\nsulla riga seguente c'è un numero\n10\nstringa 1\nstringa 2\nstringa 3\nstringa 4\nstringa 5\nstringa 6\nstringa 7\nstringa 8\nstringa 9\nstringa 10\n\n another character string with a non-ascii character: è\n",
          "output_type": "stream"
        }
      ]
    },
    {
      "cell_type": "code",
      "source": "with open('1018.txt') as f:\n    rows = f.readlines()\n# the file is closed\n# I use the strings stored in the rows list\nfor i,row in enumerate(rows):\n    print(row.rstrip()*i)",
      "metadata": {
        "trusted": true
      },
      "execution_count": 18,
      "outputs": [
        {
          "name": "stdout",
          "text": "",
          "output_type": "stream"
        },
        {
          "name": "stdout",
          "text": "\nsulla riga seguente c'è un numero\n1010\nstringa 1stringa 1stringa 1\nstringa 2stringa 2stringa 2stringa 2\nstringa 3stringa 3stringa 3stringa 3stringa 3\nstringa 4stringa 4stringa 4stringa 4stringa 4stringa 4\nstringa 5stringa 5stringa 5stringa 5stringa 5stringa 5stringa 5\nstringa 6stringa 6stringa 6stringa 6stringa 6stringa 6stringa 6stringa 6\nstringa 7stringa 7stringa 7stringa 7stringa 7stringa 7stringa 7stringa 7stringa 7\nstringa 8stringa 8stringa 8stringa 8stringa 8stringa 8stringa 8stringa 8stringa 8stringa 8\nstringa 9stringa 9stringa 9stringa 9stringa 9stringa 9stringa 9stringa 9stringa 9stringa 9stringa 9\nstringa 10stringa 10stringa 10stringa 10stringa 10stringa 10stringa 10stringa 10stringa 10stringa 10stringa 10stringa 10\n\n another character string with a non-ascii character: è another character string with a non-ascii character: è another character string with a non-ascii character: è another character string with a non-ascii character: è another character string with a non-ascii character: è another character string with a non-ascii character: è another character string with a non-ascii character: è another character string with a non-ascii character: è another character string with a non-ascii character: è another character string with a non-ascii character: è another character string with a non-ascii character: è another character string with a non-ascii character: è another character string with a non-ascii character: è another character string with a non-ascii character: è\n",
          "output_type": "stream"
        }
      ]
    },
    {
      "cell_type": "code",
      "source": "#***EXCEL***\nimport time as time\nstart_time = time.time()\nncols = 10\nnrows = 10\n#....\n# Create the header\n# header = ['intestazione-{0:02d}'.format(i) for i in range (1,ncols+1)]\nheader = [f'Header-{i:02d}' for i in range(1, ncols + 1)]\nrows =[ [str(icol*10**(irow)) for icol in range(ncols)] for irow in range(nrows)]\n# Write the data to a CSV file\nwith open('1018_test_csv.csv','wt') as fl:\n    fl.write(','.join(header)+'\\n')\n    for columns in rows:\n        fl.write(','.join(columns)+'\\n')\nend_time = time.time()\nprint('il codice ha impiegato ', end_time-start_time, 'seconds')",
      "metadata": {
        "trusted": true
      },
      "execution_count": 29,
      "outputs": [
        {
          "name": "stdout",
          "text": "il codice ha impiegato  0.15900015830993652 seconds\n",
          "output_type": "stream"
        }
      ]
    },
    {
      "cell_type": "code",
      "source": "#version -2\nstart_time = time.time()\n#I write one line at a time generating the data at the same time\nwith open('2_test_csv.csv','wt') as fl:\n    for j in range(ncols):\n            fl.write('Header-{0:02d},'.format(j+1))\n        fl.write('\\n')\n    for i in range(nrows):\n        for j in range(ncols):\n            fl.write(str(j*(10**i))+',')\n        fl.write('\\n')\nend_time = time.time()\nprint('il codice ha impiegato ', end_time-start_time, 'seconds')\n",
      "metadata": {
        "trusted": true
      },
      "execution_count": null,
      "outputs": []
    },
    {
      "cell_type": "code",
      "source": "#READ\n# I load the data written into the file all in one go\nwith open('1018_test_csv.csv','rt') as fl:\n    rows=fl.readlines()\nheader = [i.rstrip() for i in rows[0].split(',')]\ndati = []\nfor row in rows[1:]:\n    datiriga = [ int(i) for i in row.split(',')]\n    dati.append(datiriga)\n# testing the reading 1\nprint(header)\nfor r in dati:\n    print(r)",
      "metadata": {
        "trusted": true
      },
      "execution_count": 2,
      "outputs": [
        {
          "name": "stdout",
          "text": "['Header-01', 'Header-02', 'Header-03', 'Header-04', 'Header-05', 'Header-06', 'Header-07', 'Header-08', 'Header-09', 'Header-10']\n[0, 1, 2, 3, 4, 5, 6, 7, 8, 9]\n[0, 10, 20, 30, 40, 50, 60, 70, 80, 90]\n[0, 100, 200, 300, 400, 500, 600, 700, 800, 900]\n[0, 1000, 2000, 3000, 4000, 5000, 6000, 7000, 8000, 9000]\n[0, 10000, 20000, 30000, 40000, 50000, 60000, 70000, 80000, 90000]\n[0, 100000, 200000, 300000, 400000, 500000, 600000, 700000, 800000, 900000]\n[0, 1000000, 2000000, 3000000, 4000000, 5000000, 6000000, 7000000, 8000000, 9000000]\n[0, 10000000, 20000000, 30000000, 40000000, 50000000, 60000000, 70000000, 80000000, 90000000]\n[0, 100000000, 200000000, 300000000, 400000000, 500000000, 600000000, 700000000, 800000000, 900000000]\n[0, 1000000000, 2000000000, 3000000000, 4000000000, 5000000000, 6000000000, 7000000000, 8000000000, 9000000000]\n",
          "output_type": "stream"
        }
      ]
    },
    {
      "cell_type": "code",
      "source": "",
      "metadata": {},
      "execution_count": null,
      "outputs": []
    }
  ]
}