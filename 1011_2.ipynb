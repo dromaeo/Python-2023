{
  "metadata": {
    "language_info": {
      "codemirror_mode": {
        "name": "python",
        "version": 3
      },
      "file_extension": ".py",
      "mimetype": "text/x-python",
      "name": "python",
      "nbconvert_exporter": "python",
      "pygments_lexer": "ipython3",
      "version": "3.8"
    },
    "kernelspec": {
      "name": "python",
      "display_name": "Python (Pyodide)",
      "language": "python"
    }
  },
  "nbformat_minor": 4,
  "nbformat": 4,
  "cells": [
    {
      "cell_type": "markdown",
      "source": "# Oct 11\n## LISTS",
      "metadata": {}
    },
    {
      "cell_type": "code",
      "source": "alist=[1, 'two', 3]\nprint(alist[0:3])\n\nlist2=alist+['1','2']\nprint(list2)\n\nlist2.append('4')\nprint(list2) #if [2] error not subscriptable: type of brackets\n#useful when loop, populate an array without knowing how many elements there'll be",
      "metadata": {
        "trusted": true
      },
      "execution_count": 4,
      "outputs": [
        {
          "name": "stdout",
          "text": "[1, 'two', 3]\n[1, 'two', 3, '1', '2']\n[1, 'two', 3, '1', '2', '4']\n",
          "output_type": "stream"
        }
      ]
    },
    {
      "cell_type": "code",
      "source": " #append works only on lists, then you convert to array \nlist=[1,2,4]\nimport numpy as np\narray1=np.array(list)\nprint(list, array1, type(array1))\n#np has functions for array not lists",
      "metadata": {
        "trusted": true
      },
      "execution_count": 2,
      "outputs": [
        {
          "name": "stdout",
          "text": "[1, 2, 4] [1 2 4] <class 'numpy.ndarray'>\n",
          "output_type": "stream"
        }
      ]
    },
    {
      "cell_type": "code",
      "source": "alist.insert(0, 'E') #position, what\nprint(alist)\n#delete methods, remove, pop",
      "metadata": {
        "trusted": true
      },
      "execution_count": 5,
      "outputs": [
        {
          "name": "stdout",
          "text": "['E', 1, 'two', 3]\n",
          "output_type": "stream"
        }
      ]
    },
    {
      "cell_type": "code",
      "source": "n_el=alist.count(3)\nprint('6 occurs', n_el, 'time')\nprint(7 in alist) #checks if it's there\n\nprint(alist.index(3))\nprint(min(list)) #error if it has letters\nlet=['r','e','g']\nprint(min(let)) #alphabetical order\n\nasc=[10,1930, 874]\nasc.sort(reverse=True)\nprint(asc)",
      "metadata": {
        "trusted": true
      },
      "execution_count": 8,
      "outputs": [
        {
          "name": "stdout",
          "text": "6 occurs 1 time\nFalse\n3\n1\ne\n[1930, 874, 10]\n",
          "output_type": "stream"
        }
      ]
    },
    {
      "cell_type": "markdown",
      "source": "## TUPLES\nYou don't create tuples they're immmutable but they may exist in txt files\n",
      "metadata": {}
    },
    {
      "cell_type": "code",
      "source": "tupl=(12, 21, 'magic') # ( ) !!\nprint(tupl)\n# error: tupl[-1]=9 can't modify!",
      "metadata": {
        "trusted": true
      },
      "execution_count": 4,
      "outputs": [
        {
          "name": "stdout",
          "text": "(12, 21, 'magic')\n",
          "output_type": "stream"
        }
      ]
    },
    {
      "cell_type": "markdown",
      "source": "## INPUT",
      "metadata": {}
    },
    {
      "cell_type": "code",
      "source": "name=input('Enter your name:')",
      "metadata": {
        "trusted": true
      },
      "execution_count": 5,
      "outputs": [
        {
          "output_type": "stream",
          "name": "stdin",
          "text": "Enter your name: Ale\n"
        }
      ]
    },
    {
      "cell_type": "code",
      "source": "print('your name is',name)\nprint(type(name))",
      "metadata": {
        "trusted": true
      },
      "execution_count": 6,
      "outputs": [
        {
          "name": "stdout",
          "text": "your name is <PyodideFuture pending cb=[WebLoop._decrement_in_progress()]>\n<class 'pyodide.webloop.PyodideFuture'>\n",
          "output_type": "stream"
        }
      ]
    },
    {
      "cell_type": "code",
      "source": "age=float((input('age')))\n",
      "metadata": {
        "trusted": true
      },
      "execution_count": 7,
      "outputs": [
        {
          "ename": "<class 'TypeError'>",
          "evalue": "float() argument must be a string or a real number, not 'PyodideFuture'",
          "traceback": [
            "\u001b[0;31m---------------------------------------------------------------------------\u001b[0m",
            "\u001b[0;31mTypeError\u001b[0m                                 Traceback (most recent call last)",
            "Cell \u001b[0;32mIn[7], line 1\u001b[0m\n\u001b[0;32m----> 1\u001b[0m age\u001b[38;5;241m=\u001b[39m\u001b[38;5;28;43mfloat\u001b[39;49m\u001b[43m(\u001b[49m\u001b[43m(\u001b[49m\u001b[38;5;28;43minput\u001b[39;49m\u001b[43m(\u001b[49m\u001b[38;5;124;43m'\u001b[39;49m\u001b[38;5;124;43mage\u001b[39;49m\u001b[38;5;124;43m'\u001b[39;49m\u001b[43m)\u001b[49m\u001b[43m)\u001b[49m\u001b[43m)\u001b[49m\n",
            "\u001b[0;31mTypeError\u001b[0m: float() argument must be a string or a real number, not 'PyodideFuture'"
          ],
          "output_type": "error"
        }
      ]
    },
    {
      "cell_type": "markdown",
      "source": "## FORMAT",
      "metadata": {}
    },
    {
      "cell_type": "code",
      "source": "x, y= 7, 43\nprint('The division of {0} and {1} is {2} or {2:.3f}'.format(y, x , y/x))",
      "metadata": {
        "trusted": true
      },
      "execution_count": 8,
      "outputs": [
        {
          "name": "stdout",
          "text": "The division of 43 and 7 is 6.142857142857143 or 6.143\n",
          "output_type": "stream"
        }
      ]
    },
    {
      "cell_type": "code",
      "source": "name1='Archie'\nname2='Gal'\nname3='Enri'\nprint(\"|||{0:<15}|||{1:^15}|||{2:>15}|||\".format(name1,name2,name3))",
      "metadata": {
        "trusted": true
      },
      "execution_count": 9,
      "outputs": [
        {
          "name": "stdout",
          "text": "|||Archie         |||      Gal      |||           Enri|||\n",
          "output_type": "stream"
        }
      ]
    },
    {
      "cell_type": "code",
      "source": "print(\"i\\ti**2\\ti**5\\ti**20\")\nfor i in range (1,11):\n    print(i, \"\\t\", i**2, \"\\t\",i**5, \"\\t\", i**20)",
      "metadata": {
        "trusted": true
      },
      "execution_count": 10,
      "outputs": [
        {
          "name": "stdout",
          "text": "i\ti**2\ti**5\ti**20\n1 \t 1 \t 1 \t 1\n2 \t 4 \t 32 \t 1048576\n3 \t 9 \t 243 \t 3486784401\n4 \t 16 \t 1024 \t 1099511627776\n5 \t 25 \t 3125 \t 95367431640625\n6 \t 36 \t 7776 \t 3656158440062976\n7 \t 49 \t 16807 \t 79792266297612001\n8 \t 64 \t 32768 \t 1152921504606846976\n9 \t 81 \t 59049 \t 12157665459056928801\n10 \t 100 \t 100000 \t 100000000000000000000\n",
          "output_type": "stream"
        }
      ]
    },
    {
      "cell_type": "code",
      "source": "layout=\"{0:>4}{1:>6}{2:>8}{3:>23}\"\nprint (layout.format(\"i\", \"i**2\", \"i**5\", \"i**20\"))\nfor i in range(1,11):\n       print(layout.format(i, i**2, i**5,  i**20))",
      "metadata": {
        "trusted": true
      },
      "execution_count": 11,
      "outputs": [
        {
          "name": "stdout",
          "text": "   i  i**2    i**5                  i**20\n   1     1       1                      1\n   2     4      32                1048576\n   3     9     243             3486784401\n   4    16    1024          1099511627776\n   5    25    3125         95367431640625\n   6    36    7776       3656158440062976\n   7    49   16807      79792266297612001\n   8    64   32768    1152921504606846976\n   9    81   59049   12157665459056928801\n  10   100  100000  100000000000000000000\n",
          "output_type": "stream"
        }
      ]
    },
    {
      "cell_type": "markdown",
      "source": "\n\n# CLASS\nMore powerful than just lines after lines",
      "metadata": {}
    },
    {
      "cell_type": "code",
      "source": "class Point():\n    \"\"\" Point class in 2D space \"\"\"\n    def __init__(self):\n        \"\"\"Create a point\"\"\"\n        self.x=0\n        self.y=0\n        ",
      "metadata": {
        "trusted": true
      },
      "execution_count": 12,
      "outputs": []
    },
    {
      "cell_type": "code",
      "source": "p=Point()\nprint(p.x, p.y)\np.x=3\nprint(p.x)\nx= p.x\ny= p.y",
      "metadata": {
        "trusted": true
      },
      "execution_count": 13,
      "outputs": [
        {
          "name": "stdout",
          "text": "0 0\n3\n",
          "output_type": "stream"
        }
      ]
    },
    {
      "cell_type": "code",
      "source": "class Point():\n    \"\"\" Point class in 2D space \"\"\"\n    def __init__(self, x=0, y=0):\n        \"\"\"Create a point\"\"\"\n        self.x=x\n        self.y=y\n        ",
      "metadata": {
        "trusted": true
      },
      "execution_count": 14,
      "outputs": []
    },
    {
      "cell_type": "code",
      "source": "q= Point(3,5)\nprint(q.x, q.y)\n",
      "metadata": {
        "trusted": true
      },
      "execution_count": 15,
      "outputs": [
        {
          "name": "stdout",
          "text": "3 5\n",
          "output_type": "stream"
        }
      ]
    },
    {
      "cell_type": "markdown",
      "source": "## Method",
      "metadata": {}
    },
    {
      "cell_type": "code",
      "source": "class Point():\n    \"\"\" Point class in 2D space \"\"\"\n    def __init__(self, x=0, y=9):\n        \"\"\"Create a point\"\"\"\n        self.x=x\n        self.y=y\n    def distance_from_origin(self):\n        return ((self.x)**2+(self.y)**2)**0.5",
      "metadata": {
        "trusted": true
      },
      "execution_count": 16,
      "outputs": []
    },
    {
      "cell_type": "code",
      "source": "p=Point(3,4)\nprint(p.x, p.y, p.distance_from_origin())",
      "metadata": {
        "trusted": true
      },
      "execution_count": 17,
      "outputs": [
        {
          "name": "stdout",
          "text": "3 4 5.0\n",
          "output_type": "stream"
        }
      ]
    },
    {
      "cell_type": "code",
      "source": "",
      "metadata": {},
      "execution_count": null,
      "outputs": []
    }
  ]
}